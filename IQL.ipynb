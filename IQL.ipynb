{
 "cells": [
  {
   "cell_type": "code",
   "execution_count": 1,
   "id": "46932b0d",
   "metadata": {},
   "outputs": [],
   "source": [
    "import matplotlib.pyplot as plt\n",
    "from multiprocessing.dummy import Pool as ThreadPool\n",
    "from multiprocessing import cpu_count\n",
    "import numpy as np\n",
    "import pickle\n",
    "import time\n",
    "\n",
    "from games.foraging import Foraging\n",
    "from agents.iql_agent import IQLAgent, IQLAgentConfig"
   ]
  },
  {
   "cell_type": "code",
   "execution_count": 2,
   "id": "a3e01da6",
   "metadata": {},
   "outputs": [],
   "source": [
    "game_config = [\n",
    "        \"Foraging-5x5-2p-1f-v3\",\n",
    "        \"Foraging-7x7-2p-1f-v3\",\n",
    "        \"Foraging-7x7-3p-1f-v3\",\n",
    "        \"Foraging-7x7-3p-1f-coop-v3\",\n",
    "    ]"
   ]
  },
  {
   "cell_type": "code",
   "execution_count": 3,
   "id": "ed2c7095",
   "metadata": {},
   "outputs": [],
   "source": [
    "configurations = {\n",
    "    'iql_0': {\n",
    "        'game': game_config[0],\n",
    "        'iql': IQLAgentConfig(\n",
    "            start_epsilon=1.0, # Epsilom inicial\n",
    "            min_epsilon=0.01,  # Mínimo valor que puede tomar epsilom\n",
    "            episodes=2000,     # Cantidad de episodios (debe coincidir con training_config)\n",
    "            lr=0.1,            # Taza de aprendizaje\n",
    "            gamma=0.9,         # Factor de descuento\n",
    "            exploring=True,    # Variable que determina si se esta en étapa de exploración o no (update y epsilom-greedy o política greedy)\n",
    "            seed=1             # Semilla para la aleatoriedad\n",
    "        ),\n",
    "        'train_config': {\n",
    "            'episodes': 2000,     # debe coincidir con el config de IQL\n",
    "            'iterations': 10,\n",
    "            'min_epsilon_decay': 0.9\n",
    "        }\n",
    "    },\n",
    "    'iql_1': {\n",
    "        'game': game_config[1],\n",
    "        'iql': IQLAgentConfig(\n",
    "            start_epsilon=1.0,\n",
    "            min_epsilon=0.01,\n",
    "            episodes=10000,\n",
    "            lr=0.1,\n",
    "            gamma=0.9,\n",
    "            exploring=True,\n",
    "            seed=1\n",
    "        ),\n",
    "        'train_config': {\n",
    "            'episodes': 10000,     # debe coincidir con el config de IQL\n",
    "            'iterations': 10,\n",
    "            'min_epsilon_decay':  0.9\n",
    "        }\n",
    "    },\n",
    "    'iql_2': {\n",
    "        'game': game_config[2],\n",
    "        'iql': IQLAgentConfig(\n",
    "            start_epsilon=1.0,\n",
    "            min_epsilon=0.05,\n",
    "            episodes=10000,\n",
    "            lr=0.15,\n",
    "            gamma=0.9,\n",
    "            exploring=True,\n",
    "            seed=1\n",
    "        ),\n",
    "        'train_config': {\n",
    "            'episodes': 10000,     # debe coincidir con el config de IQL\n",
    "            'iterations': 30,\n",
    "            'min_epsilon_decay':  0.9\n",
    "        }\n",
    "    },\n",
    "    'iql_3': {\n",
    "        'game': game_config[3],\n",
    "        'iql': IQLAgentConfig(\n",
    "            start_epsilon=1.0,\n",
    "            min_epsilon=0.05,\n",
    "            episodes=20000,\n",
    "            lr=0.15,\n",
    "            gamma=0.9,\n",
    "            exploring=True,\n",
    "            seed=1\n",
    "        ),\n",
    "        'train_config': {\n",
    "            'episodes': 20000,     # debe coincidir con el config de IQL\n",
    "            'iterations': 50,\n",
    "            'min_epsilon_decay':  0.9\n",
    "        }\n",
    "    }\n",
    "}"
   ]
  },
  {
   "cell_type": "code",
   "execution_count": 4,
   "id": "b8978ac3",
   "metadata": {},
   "outputs": [],
   "source": [
    "def play_episode(game, agents, verbose=False, render=False):\n",
    "\n",
    "    # Initialize the game\n",
    "    game.reset()\n",
    "    step_count = 0\n",
    "\n",
    "    # Initialize each agent\n",
    "    for agent in game.agents:\n",
    "        agents[agent].reset()\n",
    "\n",
    "    # Print initial observations if verbose is enabled\n",
    "    if verbose:\n",
    "        print(f\"Step: {step_count}\")\n",
    "        for agent in game.agents:\n",
    "            print(f\"Agent {agent} observe: {game.observe(agent)}\")\n",
    "\n",
    "    # Initialize rewards for each agent\n",
    "    cum_rewards = dict(map(lambda agent: (agent, 0.0), game.agents))\n",
    "\n",
    "    # render the game if required\n",
    "    if render:\n",
    "        game.render()\n",
    "        time.sleep(0.5)\n",
    "\n",
    "    while not game.done():\n",
    "\n",
    "        step_count += 1\n",
    "        \n",
    "        # Get actions from each agent\n",
    "        actions = {}\n",
    "        for agent in game.agents:\n",
    "            actions[agent] = agents[agent].action()\n",
    "             \n",
    "        # Perform the actions in the game\n",
    "        game.step(actions)\n",
    "\n",
    "        # Update the cum_rewards for each agent\n",
    "        for agent in game.agents:\n",
    "            cum_rewards[agent] += game.reward(agent)\n",
    "\n",
    "        # Print actions, rewards and next state if verbose is enabled\n",
    "        if verbose:\n",
    "            print(f\"Step: {step_count}\")\n",
    "            for agent in game.agents:\n",
    "                    print(f\"Agent {agent} action: {actions[agent]} - {game.action_set[actions[agent]]}\")\n",
    "                    print(f\"Agent {agent} reward: {game.reward(agent)}\")\n",
    "                    print(f\"Agent {agent} observe: {game.observe(agent)}\")\n",
    "            \n",
    "        if render:\n",
    "            game.render()\n",
    "            time.sleep(0.5)\n",
    "    \n",
    "        for agent in game.agents:\n",
    "            # Update the agent with the last observation\n",
    "            agents[agent].update()\n",
    "    \n",
    "    return cum_rewards"
   ]
  },
  {
   "cell_type": "code",
   "execution_count": 5,
   "id": "b706c670",
   "metadata": {},
   "outputs": [],
   "source": [
    "def run(game, agents, episodes=1, verbose=False, render=False):\n",
    "    sum_rewards = dict(map(lambda agent: (agent, 0.0), game.agents))\n",
    "    for _ in range(episodes):\n",
    "        cum_rewards = play_episode(game, agents, verbose=verbose, render=render)  \n",
    "        for agent in game.agents:\n",
    "            sum_rewards[agent] += cum_rewards[agent]\n",
    "    if verbose:\n",
    "        print(f\"Average rewards over {episodes} episodes:\")\n",
    "        for agent in game.agents:\n",
    "            print(f\"Agent {agent}: {sum_rewards[agent] / episodes}\")  \n",
    "    return sum_rewards     "
   ]
  },
  {
   "cell_type": "code",
   "execution_count": 6,
   "id": "d823b77f",
   "metadata": {},
   "outputs": [],
   "source": [
    "def train(game, agents, train_config, progress=False, verbose=False, render=False):\n",
    "    iterations = train_config[\"iterations\"]\n",
    "    episodes = train_config[\"episodes\"]\n",
    "    min_epsilon_decay = train_config[\"min_epsilon_decay\"]\n",
    "    average_rewards = dict(map(lambda agent: (agent, []), game.agents))\n",
    "    epsilons = [agent.epsilon for agent in agents.values()]\n",
    "    for i in range(1, iterations+1):\n",
    "        for i, agent in enumerate(agents.values()):\n",
    "            agent.epsilon = epsilons[i] * (min_epsilon_decay ** i)\n",
    "        sum_rewards = run(game, agents, episodes=episodes, verbose=verbose, render=render)\n",
    "        for agent in game.agents:\n",
    "            average_rewards[agent].append(sum_rewards[agent] / episodes)\n",
    "        if progress and (i % 10 == 0):\n",
    "            print(f\"Iteration {i} ({i * episodes} episodes) (start_epsilon: {epsilons[i] * (min_epsilon_decay ** i)})\")\n",
    "            for agent in game.agents:\n",
    "                print(f\"Agent {agent}: {average_rewards[agent][-1]}\")\n",
    "    if progress:\n",
    "        print(f\"Last average rewards over {iterations} iterations ({iterations * episodes} episodes):\")\n",
    "        for agent in game.agents:\n",
    "            print(f\"Agent {agent}: {average_rewards[agent][-1]}\")\n",
    "    return average_rewards"
   ]
  },
  {
   "cell_type": "code",
   "execution_count": 7,
   "id": "c6a74b4c",
   "metadata": {},
   "outputs": [],
   "source": [
    "def entrenar_agente_tarea(args):\n",
    "    config_id, config = args\n",
    "    game = Foraging(config=config['game'], seed=1)\n",
    "    agents = dict(map(lambda agent: (agent, IQLAgent(game=game, agent=agent, config=config['iql'])), game.agents))\n",
    "\n",
    "    game.reset()\n",
    "    for agent in game.agents:\n",
    "        print(f\"Agent: {agent}\")\n",
    "        print(f\"Observation: {game.observe(agent)}\")\n",
    "\n",
    "    average_rewards = train(game, agents, train_config=config['train_config'], progress=True, verbose=False, render=False)\n",
    "\n",
    "    resultados_dict = {\n",
    "        f\"experimento_{config_id}\": {\n",
    "            'agents': agents,\n",
    "            'game': game,\n",
    "            'config': config,\n",
    "            'average_rewards': average_rewards\n",
    "        }\n",
    "    }\n",
    "\n",
    "    with open(f\"experiments/results_{config_id}.pkl\", \"wb\") as f:\n",
    "        pickle.dump(resultados_dict, f)\n",
    "\n",
    "    return resultados_dict"
   ]
  },
  {
   "cell_type": "code",
   "execution_count": 8,
   "id": "fb173b93",
   "metadata": {},
   "outputs": [],
   "source": [
    "# Armar lista de tareas: cada elemento es una tupla (config_id, config)\n",
    "tareas = [(config_id, config) for config_id, config in configurations.items() if config_id == 'iql_3']\n",
    "\n",
    "# Número de procesos (podés limitarlo si querés)\n",
    "n_proc = min(len(tareas), cpu_count())"
   ]
  },
  {
   "cell_type": "code",
   "execution_count": 9,
   "id": "8baaae33",
   "metadata": {},
   "outputs": [],
   "source": [
    "config_keys = [tarea[0] for tarea in tareas]"
   ]
  },
  {
   "cell_type": "code",
   "execution_count": 10,
   "id": "4e5dd12a",
   "metadata": {},
   "outputs": [
    {
     "name": "stderr",
     "output_type": "stream",
     "text": [
      "c:\\Users\\Guillermo\\miniconda3\\envs\\pettingzoo_games\\Lib\\site-packages\\gymnasium\\spaces\\box.py:130: UserWarning: \u001b[33mWARN: Box bound precision lowered by casting to float32\u001b[0m\n",
      "  gym.logger.warn(f\"Box bound precision lowered by casting to {self.dtype}\")\n",
      "c:\\Users\\Guillermo\\miniconda3\\envs\\pettingzoo_games\\Lib\\site-packages\\gymnasium\\utils\\passive_env_checker.py:275: UserWarning: \u001b[33mWARN: The reward returned by `step()` must be a float, int, np.integer or np.floating, actual type: <class 'list'>\u001b[0m\n",
      "  logger.warn(\n"
     ]
    },
    {
     "name": "stdout",
     "output_type": "stream",
     "text": [
      "Agent: agent_0\n",
      "Observation: [5. 2. 4. 0. 1. 2. 6. 1. 1. 6. 2. 1.]\n",
      "Agent: agent_1\n",
      "Observation: [5. 2. 4. 6. 1. 1. 0. 1. 2. 6. 2. 1.]\n",
      "Agent: agent_2\n",
      "Observation: [5. 2. 4. 6. 2. 1. 0. 1. 2. 6. 1. 1.]\n",
      "Last average rewards over 50 iterations (1000000 episodes):\n",
      "Agent agent_0: 0.46935\n",
      "Agent agent_1: 0.234675\n",
      "Agent agent_2: 0.234675\n"
     ]
    }
   ],
   "source": [
    "with ThreadPool(n_proc) as pool:\n",
    "    resultados = pool.map(entrenar_agente_tarea, tareas)"
   ]
  },
  {
   "cell_type": "code",
   "execution_count": null,
   "id": "2db8daf0",
   "metadata": {},
   "outputs": [
    {
     "name": "stdout",
     "output_type": "stream",
     "text": [
      "iql_3\n"
     ]
    }
   ],
   "source": [
    "import os\n",
    "\n",
    "experiments = {}\n",
    "for config_id in config_keys:\n",
    "    print(config_id)\n",
    "    path = f\"./experiments/results_{config_id}.pkl\"\n",
    "    if os.path.exists(path):\n",
    "        with open(path, \"rb\") as f:\n",
    "            experiment = pickle.load(f)\n",
    "            for key, val in experiment.items():\n",
    "                experiments[key] = val"
   ]
  },
  {
   "cell_type": "code",
   "execution_count": null,
   "id": "2aa7ff99",
   "metadata": {},
   "outputs": [
    {
     "name": "stdout",
     "output_type": "stream",
     "text": [
      "Experiment config: Foraging-7x7-3p-1f-coop-v3\n"
     ]
    },
    {
     "data": {
      "image/png": "[encoded data removed]",
      "text/plain": [
       "<Figure size 640x480 with 1 Axes>"
      ]
     },
     "metadata": {},
     "output_type": "display_data"
    },
    {
     "ename": "",
     "evalue": "",
     "output_type": "error",
     "traceback": [
      "\u001b[1;31mThe Kernel crashed while executing code in the current cell or a previous cell. \n",
      "\u001b[1;31mPlease review the code in the cell(s) to identify a possible cause of the failure. \n",
      "\u001b[1;31mClick <a href='https://aka.ms/vscodeJupyterKernelCrash'>here</a> for more info. \n",
      "\u001b[1;31mView Jupyter <a href='command:jupyter.viewOutput'>log</a> for further details."
     ]
    }
   ],
   "source": [
    "for experiment_name, experiment in experiments.items():\n",
    "\n",
    "    print(f\"Experiment config: {experiment['config']['game']}\")\n",
    "\n",
    "    average_rewards = experiment['average_rewards']\n",
    "\n",
    "    for agent, rewards in average_rewards.items():\n",
    "        plt.plot(np.cumsum(rewards), label=agent)\n",
    "\n",
    "    plt.xlabel('Iterations')\n",
    "    plt.ylabel('Average Cumulative Rewards')\n",
    "    plt.title(f'Experiment {experiment_name} - Average Cumulative Rewards per Agent')\n",
    "    plt.legend()\n",
    "    plt.show()\n",
    "\n",
    "    experiment_agents = experiment['agents']\n",
    "    for agent in experiment_agents.keys():\n",
    "        experiment_agents[agent].exploring = False\n",
    "\n",
    "    game = experiment['game']\n",
    "\n",
    "    play_episode(game, experiment_agents, verbose=False, render=True)\n",
    "    game.reset()\n"
   ]
  }
 ],
 "metadata": {
  "kernelspec": {
   "display_name": "pettingzoo_games",
   "language": "python",
   "name": "python3"
  },
  "language_info": {
   "codemirror_mode": {
    "name": "ipython",
    "version": 3
   },
   "file_extension": ".py",
   "mimetype": "text/x-python",
   "name": "python",
   "nbconvert_exporter": "python",
   "pygments_lexer": "ipython3",
   "version": "3.11.11"
  }
 },
 "nbformat": 4,
 "nbformat_minor": 5
}
