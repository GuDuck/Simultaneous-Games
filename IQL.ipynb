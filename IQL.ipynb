{
 "cells": [
  {
   "cell_type": "code",
   "execution_count": 9,
   "id": "46932b0d",
   "metadata": {},
   "outputs": [],
   "source": [
    "import matplotlib.pyplot as plt\n",
    "from multiprocessing import Pool, cpu_count\n",
    "import numpy as np\n",
    "import pickle\n",
    "import time\n",
    "\n",
    "from games.foraging import Foraging\n",
    "from agents.iql_agent import IQLAgent, IQLAgentConfig"
   ]
  },
  {
   "cell_type": "code",
   "execution_count": 10,
   "id": "a3e01da6",
   "metadata": {},
   "outputs": [],
   "source": [
    "game_config = [\n",
    "        \"Foraging-5x5-2p-1f-v3\",\n",
    "        \"Foraging-8x8-2p-1f-v3\",\n",
    "        \"Foraging-8x8-3p-1f-v3\",\n",
    "        \"Foraging-8x8-3p-1f-coop-v3\",\n",
    "    ]"
   ]
  },
  {
   "cell_type": "code",
   "execution_count": 11,
   "id": "ed2c7095",
   "metadata": {},
   "outputs": [],
   "source": [
    "configurations = {\n",
    "    '0': {\n",
    "        'game': game_config[0],\n",
    "        'iql': IQLAgentConfig(\n",
    "            lr=0.1,           # α (learning rate)\n",
    "            gamma=0.9,        # factor de descuento\n",
    "            epsilon=1.0,      # ε inicial de exploración\n",
    "            epsilon_decay=0.99,  # decaimiento de ε por paso\n",
    "            exploring=True,\n",
    "            seed=1\n",
    "        ),\n",
    "        'train_config': {\n",
    "            'episodes': 10000,\n",
    "            'iterations': 10,\n",
    "        }\n",
    "    },\n",
    "    '1': {\n",
    "        'game': game_config[1],\n",
    "        'iql': IQLAgentConfig(\n",
    "            lr=0.1,\n",
    "            gamma=0.9,\n",
    "            epsilon=1.0,\n",
    "            epsilon_decay=0.995,\n",
    "            exploring=True,\n",
    "            seed=1\n",
    "        ),\n",
    "        'train_config': {\n",
    "            'episodes': 10000,\n",
    "            'iterations': 100,\n",
    "        }\n",
    "    },\n",
    "    '2': {\n",
    "        'game': game_config[2],\n",
    "        'iql': IQLAgentConfig(\n",
    "            lr=0.1,\n",
    "            gamma=0.9,\n",
    "            epsilon=1.0,\n",
    "            epsilon_decay=0.998,\n",
    "            exploring=True,\n",
    "            seed=1\n",
    "        ),\n",
    "        'train_config': {\n",
    "            'episodes': 10000,\n",
    "            'iterations': 1000,\n",
    "        }\n",
    "    },\n",
    "    '3': {\n",
    "        'game': game_config[3],\n",
    "        'iql': IQLAgentConfig(\n",
    "            lr=0.1,\n",
    "            gamma=0.9,\n",
    "            epsilon=1.0,\n",
    "            epsilon_decay=0.999,\n",
    "            exploring=True,\n",
    "            seed=1\n",
    "        ),\n",
    "        'train_config': {\n",
    "            'episodes': 10000,\n",
    "            'iterations': 1000,\n",
    "        }\n",
    "    }\n",
    "}"
   ]
  },
  {
   "cell_type": "code",
   "execution_count": 12,
   "id": "b8978ac3",
   "metadata": {},
   "outputs": [],
   "source": [
    "def play_episode(game, agents, verbose=False, render=False):\n",
    "\n",
    "    # Initialize the game\n",
    "    game.reset()\n",
    "    step_count = 0\n",
    "\n",
    "    # Initialize each agent\n",
    "    for agent in game.agents:\n",
    "        agents[agent].reset()\n",
    "\n",
    "    # Print initial observations if verbose is enabled\n",
    "    if verbose:\n",
    "        print(f\"Step: {step_count}\")\n",
    "        for agent in game.agents:\n",
    "            print(f\"Agent {agent} observe: {game.observe(agent)}\")\n",
    "\n",
    "    # Initialize rewards for each agent\n",
    "    cum_rewards = dict(map(lambda agent: (agent, 0.0), game.agents))\n",
    "\n",
    "    # render the game if required\n",
    "    if render:\n",
    "        game.render()\n",
    "        time.sleep(0.5)\n",
    "\n",
    "    while not game.done():\n",
    "\n",
    "        step_count += 1\n",
    "        \n",
    "        # Get actions from each agent\n",
    "        actions = {}\n",
    "        for agent in game.agents:\n",
    "            actions[agent] = agents[agent].action()\n",
    "             \n",
    "        # Perform the actions in the game\n",
    "        game.step(actions)\n",
    "\n",
    "        # Update the cum_rewards for each agent\n",
    "        for agent in game.agents:\n",
    "            cum_rewards[agent] += game.reward(agent)\n",
    "\n",
    "        # Print actions, rewards and next state if verbose is enabled\n",
    "        if verbose:\n",
    "            print(f\"Step: {step_count}\")\n",
    "            for agent in game.agents:\n",
    "                    print(f\"Agent {agent} action: {actions[agent]} - {game.action_set[actions[agent]]}\")\n",
    "                    print(f\"Agent {agent} reward: {game.reward(agent)}\")\n",
    "                    print(f\"Agent {agent} observe: {game.observe(agent)}\")\n",
    "            \n",
    "        if render:\n",
    "            game.render()\n",
    "            time.sleep(0.5)\n",
    "    \n",
    "        for agent in game.agents:\n",
    "            # Update the agent with the last observation\n",
    "            agents[agent].update()\n",
    "    \n",
    "    return cum_rewards"
   ]
  },
  {
   "cell_type": "code",
   "execution_count": 13,
   "id": "b706c670",
   "metadata": {},
   "outputs": [],
   "source": [
    "def run(game, agents, episodes=1, verbose=False, render=False):\n",
    "    sum_rewards = dict(map(lambda agent: (agent, 0.0), game.agents))\n",
    "    for _ in range(episodes):\n",
    "        cum_rewards = play_episode(game, agents, verbose=verbose, render=render)  \n",
    "        for agent in game.agents:\n",
    "            sum_rewards[agent] += cum_rewards[agent]\n",
    "    if verbose:\n",
    "        print(f\"Average rewards over {episodes} episodes:\")\n",
    "        for agent in game.agents:\n",
    "            print(f\"Agent {agent}: {sum_rewards[agent] / episodes}\")  \n",
    "    return sum_rewards     "
   ]
  },
  {
   "cell_type": "code",
   "execution_count": null,
   "id": "d823b77f",
   "metadata": {},
   "outputs": [],
   "source": [
    "def train(game, agents, train_config, progress=False, verbose=False, render=False, log=False):\n",
    "    iterations = train_config[\"iterations\"]\n",
    "    episodes = train_config[\"episodes\"]\n",
    "    average_rewards = dict(map(lambda agent: (agent, []), game.agents))\n",
    "    for i in range(1, iterations+1):\n",
    "        sum_rewards = run(game, agents, episodes=episodes, verbose=verbose, render=render)\n",
    "        for agent in game.agents:\n",
    "            average_rewards[agent].append(sum_rewards[agent] / episodes)\n",
    "        if progress and (i % 10 == 0):\n",
    "            print(f\"Iteration {i} ({i * episodes} episodes)\")\n",
    "            for agent in game.agents:\n",
    "                print(f\"Agent {agent}: {average_rewards[agent][-1]}\")\n",
    "    if progress:\n",
    "        print(f\"Last average rewards over {iterations} iterations ({iterations * episodes} episodes):\")\n",
    "        for agent in game.agents:\n",
    "            print(f\"Agent {agent}: {average_rewards[agent][-1]}\")\n",
    "\n",
    "    return average_rewards"
   ]
  },
  {
   "cell_type": "code",
   "execution_count": 15,
   "id": "c6a74b4c",
   "metadata": {},
   "outputs": [],
   "source": [
    "def entrenar_agente_tarea(configurations, config_id, save=False):\n",
    "\n",
    "    config = configurations[config_id]\n",
    "    game = Foraging(config=config['game'], seed=1)\n",
    "    agents = dict(map(lambda agent: (agent, IQLAgent(game=game, agent=agent, config=config['iql'])), game.agents))\n",
    "\n",
    "    game.reset()\n",
    "    for agent in game.agents:\n",
    "        print(f\"Agent: {agent}\")\n",
    "        print(f\"Observation: {game.observe(agent)}\")\n",
    "\n",
    "    average_rewards = train(game, agents, train_config=config['train_config'], progress=True, verbose=False, render=False)\n",
    "\n",
    "    resultados_dict = {\n",
    "        f\"experimento_{config_id}\": {\n",
    "            'agents': agents,\n",
    "            'game': game,\n",
    "            'config': config,\n",
    "            'average_rewards': average_rewards\n",
    "        } \n",
    "    }\n",
    "\n",
    "    with open(f\"resultados_{config_id}.pkl\", \"wb\") as f:\n",
    "        pickle.dump(resultados_dict, f)\n",
    "\n",
    "    return resultados_dict\n",
    "    "
   ]
  },
  {
   "cell_type": "code",
   "execution_count": null,
   "id": "fb173b93",
   "metadata": {},
   "outputs": [],
   "source": [
    "# Armar lista de tareas: cada elemento es una tupla (config_id, config)\n",
    "tareas = [(config_id, config) for config_id, config in configurations.items() if config_id == '0']\n",
    "\n",
    "# Número de procesos (podés limitarlo si querés)\n",
    "n_proc = min(len(tareas), cpu_count())\n",
    "\n",
    "with Pool(processes=n_proc) as pool:\n",
    "    resultados = pool.map(entrenar_agente_tarea, tareas)"
   ]
  },
  {
   "cell_type": "code",
   "execution_count": null,
   "id": "aaa5be45",
   "metadata": {},
   "outputs": [
    {
     "data": {
      "image/png": "[encoded data removed]",
      "text/plain": [
       "<Figure size 640x480 with 1 Axes>"
      ]
     },
     "metadata": {},
     "output_type": "display_data"
    }
   ],
   "source": [
    "for agent, rewards in average_rewards.items():\n",
    "    plt.plot(rewards, label=agent)\n",
    "\n",
    "plt.xlabel('Iterations')\n",
    "plt.ylabel('Average Reward')\n",
    "plt.title('Average Rewards per Agent')\n",
    "plt.legend()\n",
    "plt.show()"
   ]
  },
  {
   "cell_type": "code",
   "execution_count": null,
   "id": "28b44c5b",
   "metadata": {},
   "outputs": [
    {
     "data": {
      "image/png": "[encoded data removed]",
      "text/plain": [
       "<Figure size 640x480 with 1 Axes>"
      ]
     },
     "metadata": {},
     "output_type": "display_data"
    }
   ],
   "source": [
    "for agent, rewards in average_rewards.items():\n",
    "    plt.plot(np.cumsum(rewards), label=agent)\n",
    "\n",
    "plt.xlabel('Iterations')\n",
    "plt.ylabel('Average Cumulative Rewards')\n",
    "plt.title('Average Cumulative Rewards per Agent')\n",
    "plt.legend()\n",
    "plt.show()"
   ]
  },
  {
   "cell_type": "code",
   "execution_count": null,
   "id": "2aa7ff99",
   "metadata": {},
   "outputs": [],
   "source": [
    "for agent in game.agents:\n",
    "    agents[agent].learn = False"
   ]
  },
  {
   "cell_type": "code",
   "execution_count": null,
   "id": "2707feb4",
   "metadata": {},
   "outputs": [
    {
     "name": "stdout",
     "output_type": "stream",
     "text": [
      "Step: 0\n",
      "Agent agent_0 observe: [3. 1. 2. 2. 3. 2. 0. 0. 2.]\n",
      "Agent agent_1 observe: [3. 1. 2. 0. 0. 2. 2. 3. 2.]\n",
      "Step: 1\n",
      "Agent agent_0 action: 3 - WEST\n",
      "Agent agent_0 reward: 0\n",
      "Agent agent_0 observe: [3. 1. 2. 2. 2. 2. 0. 0. 2.]\n",
      "Agent agent_1 action: 3 - WEST\n",
      "Agent agent_1 reward: 0\n",
      "Agent agent_1 observe: [3. 1. 2. 0. 0. 2. 2. 2. 2.]\n",
      "Step: 2\n",
      "Agent agent_0 action: 3 - WEST\n",
      "Agent agent_0 reward: 0\n",
      "Agent agent_0 observe: [3. 1. 2. 2. 1. 2. 0. 0. 2.]\n",
      "Agent agent_1 action: 1 - NORTH\n",
      "Agent agent_1 reward: 0\n",
      "Agent agent_1 observe: [3. 1. 2. 0. 0. 2. 2. 1. 2.]\n",
      "Step: 3\n",
      "Agent agent_0 action: 2 - SOUTH\n",
      "Agent agent_0 reward: 0\n",
      "Agent agent_0 observe: [3. 1. 2. 2. 1. 2. 1. 0. 2.]\n",
      "Agent agent_1 action: 2 - SOUTH\n",
      "Agent agent_1 reward: 0\n",
      "Agent agent_1 observe: [3. 1. 2. 1. 0. 2. 2. 1. 2.]\n",
      "Step: 4\n",
      "Agent agent_0 action: 5 - LOAD\n",
      "Agent agent_0 reward: 1.0\n",
      "Agent agent_0 observe: [-1. -1.  0.  2.  1.  2.  1.  0.  2.]\n",
      "Agent agent_1 action: 5 - LOAD\n",
      "Agent agent_1 reward: 0\n",
      "Agent agent_1 observe: [-1. -1.  0.  1.  0.  2.  2.  1.  2.]\n"
     ]
    },
    {
     "data": {
      "text/plain": [
       "{'agent_0': 1.0, 'agent_1': 0.0}"
      ]
     },
     "execution_count": 23,
     "metadata": {},
     "output_type": "execute_result"
    }
   ],
   "source": [
    "play_episode(game, agents, verbose=True, render=True)"
   ]
  },
  {
   "cell_type": "code",
   "execution_count": null,
   "id": "1cbe1ec6",
   "metadata": {},
   "outputs": [],
   "source": []
  }
 ],
 "metadata": {
  "kernelspec": {
   "display_name": "pettingzoo_games",
   "language": "python",
   "name": "python3"
  },
  "language_info": {
   "codemirror_mode": {
    "name": "ipython",
    "version": 3
   },
   "file_extension": ".py",
   "mimetype": "text/x-python",
   "name": "python",
   "nbconvert_exporter": "python",
   "pygments_lexer": "ipython3",
   "version": "3.11.11"
  }
 },
 "nbformat": 4,
 "nbformat_minor": 5
}
