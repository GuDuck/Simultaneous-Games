{
 "cells": [
  {
   "cell_type": "markdown",
   "metadata": {},
   "source": [
    "# Fictitious Play vs Regret Matching"
   ]
  },
  {
   "cell_type": "code",
   "execution_count": null,
   "metadata": {},
   "outputs": [],
   "source": [
    "from games.mp import MP\n",
    "from agents.regretmatching import RegretMatching\n",
    "from agents.fictitiousplay import FictitiousPlay\n",
    "from auxiliar.repeated_normalform_games_functions import iter_game, plot_rewards, plot_policies\n",
    "\n",
    "import matplotlib.pyplot as plt\n",
    "import numpy as np"
   ]
  },
  {
   "cell_type": "code",
   "execution_count": null,
   "metadata": {},
   "outputs": [],
   "source": [
    "agent_alias = {'agent_0':'RM-agent', 'agent_1':'FP-agent'}\n",
    "agent_classes = {'agent_0': RegretMatching, 'agent_1': FictitiousPlay}"
   ]
  },
  {
   "cell_type": "markdown",
   "metadata": {},
   "source": [
    "## Matching Pennies"
   ]
  },
  {
   "cell_type": "code",
   "execution_count": null,
   "metadata": {},
   "outputs": [],
   "source": [
    "# Definir juego\n",
    "g = MP()\n",
    "\n",
    "# Definir labels\n",
    "action_labels = ['$\\pi(H)$', '$\\pi(T)$']\n",
    "\n",
    "# Definir parámetros del experimento\n",
    "NITS = 10           # Cantidad de iteraciones\n",
    "NSTEPS = int(10e3)  # Cantidad de steps por iteración\n",
    "\n",
    "# Iterar juegos\n",
    "iter_game(NITS, NSTEPS, g, agent_classes, action_labels, agent_alias)"
   ]
  },
  {
   "cell_type": "markdown",
   "metadata": {},
   "source": [
    "# Rock, Paper, Scissors"
   ]
  },
  {
   "cell_type": "code",
   "execution_count": null,
   "metadata": {},
   "outputs": [],
   "source": [
    "from games.rps import RPS"
   ]
  },
  {
   "cell_type": "code",
   "execution_count": null,
   "metadata": {},
   "outputs": [],
   "source": [
    "# Definir juego\n",
    "g = RPS()\n",
    "\n",
    "# Definir labels\n",
    "action_labels = ['$\\pi(R)$', '$\\pi(P)$', '$\\pi(S)$']\n",
    "\n",
    "# Definir parámetros del experimento\n",
    "NITS = 10           # Cantidad de iteraciones\n",
    "NSTEPS = int(10e3)  # Cantidad de steps por iteración\n",
    "\n",
    "# Iterar juegos\n",
    "iter_game(NITS, NSTEPS, g, agent_classes, action_labels, agent_alias)"
   ]
  },
  {
   "cell_type": "markdown",
   "metadata": {},
   "source": [
    "# Blotto  "
   ]
  },
  {
   "cell_type": "code",
   "execution_count": null,
   "metadata": {},
   "outputs": [],
   "source": [
    "from games.blotto import Blotto"
   ]
  },
  {
   "cell_type": "code",
   "execution_count": null,
   "metadata": {},
   "outputs": [],
   "source": [
    "# Definir juego\n",
    "S = 10 # 10\n",
    "N = 4  # 5\n",
    "g = Blotto(S=S, N=N)\n",
    "\n",
    "# Definir labels\n",
    "action_labels = [f'$\\pi(a_{i}={g._moves[i]}$)' for i in range(g.action_spaces['agent_0'].n)]\n",
    "\n",
    "# Definir parámetros del experimento\n",
    "NITS = 10          # Cantidad de iteraciones\n",
    "NSTEPS = int(50e3) # Cantidad de steps por iteración\n",
    "\n",
    "# Iterar juegos\n",
    "iter_game(NITS, NSTEPS, g, agent_classes, action_labels, agent_alias)"
   ]
  }
 ],
 "metadata": {
  "kernelspec": {
   "display_name": "pettingzoo_games",
   "language": "python",
   "name": "python3"
  },
  "language_info": {
   "codemirror_mode": {
    "name": "ipython",
    "version": 3
   },
   "file_extension": ".py",
   "mimetype": "text/x-python",
   "name": "python",
   "nbconvert_exporter": "python",
   "pygments_lexer": "ipython3",
   "version": "3.11.11"
  }
 },
 "nbformat": 4,
 "nbformat_minor": 2
}
